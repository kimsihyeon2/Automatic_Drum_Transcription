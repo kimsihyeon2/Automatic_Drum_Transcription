{
 "cells": [
  {
   "cell_type": "code",
   "execution_count": 1,
   "id": "a509d4c2",
   "metadata": {},
   "outputs": [
    {
     "name": "stdout",
     "output_type": "stream",
     "text": [
      "test\n"
     ]
    }
   ],
   "source": [
    "print(\"test\")"
   ]
  },
  {
   "cell_type": "markdown",
   "id": "3a26c541",
   "metadata": {},
   "source": [
    "설치파일"
   ]
  },
  {
   "cell_type": "code",
   "execution_count": 13,
   "id": "c2cbb54f",
   "metadata": {},
   "outputs": [
    {
     "name": "stdout",
     "output_type": "stream",
     "text": [
      "Requirement already satisfied: demucs in c:\\users\\kimsi\\anaconda3\\lib\\site-packages (4.0.1)\n",
      "Requirement already satisfied: dora-search in c:\\users\\kimsi\\anaconda3\\lib\\site-packages (from demucs) (0.1.12)\n",
      "Requirement already satisfied: einops in c:\\users\\kimsi\\anaconda3\\lib\\site-packages (from demucs) (0.8.1)\n",
      "Requirement already satisfied: julius>=0.2.3 in c:\\users\\kimsi\\anaconda3\\lib\\site-packages (from demucs) (0.2.7)\n",
      "Requirement already satisfied: lameenc>=1.2 in c:\\users\\kimsi\\anaconda3\\lib\\site-packages (from demucs) (1.8.1)\n",
      "Requirement already satisfied: openunmix in c:\\users\\kimsi\\anaconda3\\lib\\site-packages (from demucs) (1.2.1)\n",
      "Requirement already satisfied: pyyaml in c:\\users\\kimsi\\anaconda3\\lib\\site-packages (from demucs) (6.0.1)\n",
      "Requirement already satisfied: torch>=1.8.1 in c:\\users\\kimsi\\anaconda3\\lib\\site-packages (from demucs) (2.4.1)\n",
      "Requirement already satisfied: torchaudio>=0.8 in c:\\users\\kimsi\\anaconda3\\lib\\site-packages (from demucs) (2.4.1)\n",
      "Requirement already satisfied: tqdm in c:\\users\\kimsi\\anaconda3\\lib\\site-packages (from demucs) (4.66.5)\n",
      "Requirement already satisfied: filelock in c:\\users\\kimsi\\anaconda3\\lib\\site-packages (from torch>=1.8.1->demucs) (3.13.1)\n",
      "Requirement already satisfied: typing-extensions>=4.8.0 in c:\\users\\kimsi\\anaconda3\\lib\\site-packages (from torch>=1.8.1->demucs) (4.11.0)\n",
      "Requirement already satisfied: sympy in c:\\users\\kimsi\\anaconda3\\lib\\site-packages (from torch>=1.8.1->demucs) (1.13.2)\n",
      "Requirement already satisfied: networkx in c:\\users\\kimsi\\anaconda3\\lib\\site-packages (from torch>=1.8.1->demucs) (3.1)\n",
      "Requirement already satisfied: jinja2 in c:\\users\\kimsi\\anaconda3\\lib\\site-packages (from torch>=1.8.1->demucs) (3.1.4)\n",
      "Requirement already satisfied: fsspec in c:\\users\\kimsi\\anaconda3\\lib\\site-packages (from torch>=1.8.1->demucs) (2024.6.1)\n",
      "Requirement already satisfied: omegaconf in c:\\users\\kimsi\\anaconda3\\lib\\site-packages (from dora-search->demucs) (2.3.0)\n",
      "Requirement already satisfied: retrying in c:\\users\\kimsi\\anaconda3\\lib\\site-packages (from dora-search->demucs) (1.3.4)\n",
      "Requirement already satisfied: submitit in c:\\users\\kimsi\\anaconda3\\lib\\site-packages (from dora-search->demucs) (1.5.3)\n",
      "Requirement already satisfied: treetable in c:\\users\\kimsi\\anaconda3\\lib\\site-packages (from dora-search->demucs) (0.2.5)\n",
      "Requirement already satisfied: numpy in c:\\users\\kimsi\\anaconda3\\lib\\site-packages (from openunmix->demucs) (1.24.4)\n",
      "Requirement already satisfied: colorama in c:\\users\\kimsi\\anaconda3\\lib\\site-packages (from tqdm->demucs) (0.4.6)\n",
      "Requirement already satisfied: MarkupSafe>=2.0 in c:\\users\\kimsi\\anaconda3\\lib\\site-packages (from jinja2->torch>=1.8.1->demucs) (2.1.3)\n",
      "Requirement already satisfied: antlr4-python3-runtime==4.9.* in c:\\users\\kimsi\\anaconda3\\lib\\site-packages (from omegaconf->dora-search->demucs) (4.9.3)\n",
      "Requirement already satisfied: six>=1.7.0 in c:\\users\\kimsi\\anaconda3\\lib\\site-packages (from retrying->dora-search->demucs) (1.16.0)\n",
      "Requirement already satisfied: cloudpickle>=1.2.1 in c:\\users\\kimsi\\anaconda3\\lib\\site-packages (from submitit->dora-search->demucs) (3.0.0)\n",
      "Requirement already satisfied: mpmath<1.4,>=1.1.0 in c:\\users\\kimsi\\anaconda3\\lib\\site-packages (from sympy->torch>=1.8.1->demucs) (1.3.0)\n",
      "Requirement already satisfied: ffmpeg-python in c:\\users\\kimsi\\anaconda3\\lib\\site-packages (0.2.0)\n",
      "Requirement already satisfied: future in c:\\users\\kimsi\\anaconda3\\lib\\site-packages (from ffmpeg-python) (1.0.0)\n",
      "Requirement already satisfied: soundfile in c:\\users\\kimsi\\anaconda3\\lib\\site-packages (0.13.1)\n",
      "Requirement already satisfied: librosa in c:\\users\\kimsi\\anaconda3\\lib\\site-packages (0.11.0)\n",
      "Requirement already satisfied: cffi>=1.0 in c:\\users\\kimsi\\anaconda3\\lib\\site-packages (from soundfile) (1.16.0)\n",
      "Requirement already satisfied: numpy in c:\\users\\kimsi\\anaconda3\\lib\\site-packages (from soundfile) (1.24.4)\n",
      "Requirement already satisfied: audioread>=2.1.9 in c:\\users\\kimsi\\anaconda3\\lib\\site-packages (from librosa) (3.0.1)\n",
      "Requirement already satisfied: numba>=0.51.0 in c:\\users\\kimsi\\anaconda3\\lib\\site-packages (from librosa) (0.58.1)\n",
      "Requirement already satisfied: scipy>=1.6.0 in c:\\users\\kimsi\\anaconda3\\lib\\site-packages (from librosa) (1.10.1)\n",
      "Requirement already satisfied: scikit-learn>=1.1.0 in c:\\users\\kimsi\\anaconda3\\lib\\site-packages (from librosa) (1.3.2)\n",
      "Requirement already satisfied: joblib>=1.0 in c:\\users\\kimsi\\anaconda3\\lib\\site-packages (from librosa) (1.4.2)\n",
      "Requirement already satisfied: decorator>=4.3.0 in c:\\users\\kimsi\\anaconda3\\lib\\site-packages (from librosa) (4.4.2)\n",
      "Requirement already satisfied: pooch>=1.1 in c:\\users\\kimsi\\anaconda3\\lib\\site-packages (from librosa) (1.7.0)\n",
      "Requirement already satisfied: soxr>=0.3.2 in c:\\users\\kimsi\\anaconda3\\lib\\site-packages (from librosa) (0.3.7)\n",
      "Requirement already satisfied: typing_extensions>=4.1.1 in c:\\users\\kimsi\\anaconda3\\lib\\site-packages (from librosa) (4.11.0)\n",
      "Requirement already satisfied: lazy_loader>=0.1 in c:\\users\\kimsi\\anaconda3\\lib\\site-packages (from librosa) (0.4)\n",
      "Requirement already satisfied: msgpack>=1.0 in c:\\users\\kimsi\\anaconda3\\lib\\site-packages (from librosa) (1.0.3)\n",
      "Requirement already satisfied: pycparser in c:\\users\\kimsi\\anaconda3\\lib\\site-packages (from cffi>=1.0->soundfile) (2.21)\n",
      "Requirement already satisfied: packaging in c:\\users\\kimsi\\anaconda3\\lib\\site-packages (from lazy_loader>=0.1->librosa) (24.1)\n",
      "Requirement already satisfied: llvmlite<0.42,>=0.41.0dev0 in c:\\users\\kimsi\\anaconda3\\lib\\site-packages (from numba>=0.51.0->librosa) (0.41.0)\n",
      "Requirement already satisfied: importlib-metadata in c:\\users\\kimsi\\anaconda3\\lib\\site-packages (from numba>=0.51.0->librosa) (7.0.1)\n",
      "Requirement already satisfied: platformdirs>=2.5.0 in c:\\users\\kimsi\\anaconda3\\lib\\site-packages (from pooch>=1.1->librosa) (3.10.0)\n",
      "Requirement already satisfied: requests>=2.19.0 in c:\\users\\kimsi\\anaconda3\\lib\\site-packages (from pooch>=1.1->librosa) (2.32.3)\n",
      "Requirement already satisfied: threadpoolctl>=2.0.0 in c:\\users\\kimsi\\anaconda3\\lib\\site-packages (from scikit-learn>=1.1.0->librosa) (3.5.0)\n",
      "Requirement already satisfied: charset-normalizer<4,>=2 in c:\\users\\kimsi\\anaconda3\\lib\\site-packages (from requests>=2.19.0->pooch>=1.1->librosa) (3.3.2)\n",
      "Requirement already satisfied: idna<4,>=2.5 in c:\\users\\kimsi\\anaconda3\\lib\\site-packages (from requests>=2.19.0->pooch>=1.1->librosa) (3.7)\n",
      "Requirement already satisfied: urllib3<3,>=1.21.1 in c:\\users\\kimsi\\anaconda3\\lib\\site-packages (from requests>=2.19.0->pooch>=1.1->librosa) (1.26.19)\n",
      "Requirement already satisfied: certifi>=2017.4.17 in c:\\users\\kimsi\\anaconda3\\lib\\site-packages (from requests>=2.19.0->pooch>=1.1->librosa) (2024.8.30)\n",
      "Requirement already satisfied: zipp>=0.5 in c:\\users\\kimsi\\anaconda3\\lib\\site-packages (from importlib-metadata->numba>=0.51.0->librosa) (3.17.0)\n",
      "Requirement already satisfied: soundfile in c:\\users\\kimsi\\anaconda3\\lib\\site-packages (0.13.1)\n",
      "Requirement already satisfied: cffi>=1.0 in c:\\users\\kimsi\\anaconda3\\lib\\site-packages (from soundfile) (1.16.0)\n",
      "Requirement already satisfied: numpy in c:\\users\\kimsi\\anaconda3\\lib\\site-packages (from soundfile) (1.24.4)\n",
      "Requirement already satisfied: pycparser in c:\\users\\kimsi\\anaconda3\\lib\\site-packages (from cffi>=1.0->soundfile) (2.21)\n"
     ]
    }
   ],
   "source": [
    "!pip install -U demucs\n",
    "!pip install ffmpeg-python\n",
    "!pip install soundfile librosa\n",
    "!pip install soundfile"
   ]
  },
  {
   "cell_type": "code",
   "execution_count": 2,
   "id": "9248344b",
   "metadata": {},
   "outputs": [
    {
     "name": "stdout",
     "output_type": "stream",
     "text": [
      "사용 가능 백엔드 목록 출력 ['soundfile']\n"
     ]
    },
    {
     "name": "stderr",
     "output_type": "stream",
     "text": [
      "C:\\Users\\Public\\Documents\\ESTsoft\\CreatorTemp\\ipykernel_12112\\1851243015.py:8: UserWarning: torchaudio._backend.set_audio_backend has been deprecated. With dispatcher enabled, this function is no-op. You can remove the function call.\n",
      "  torchaudio.set_audio_backend(\"sox_io\")\n"
     ]
    }
   ],
   "source": [
    "# 1️⃣ 라이브러리 로드\n",
    "from demucs import pretrained\n",
    "from demucs.apply import apply_model\n",
    "import torchaudio\n",
    "import torch\n",
    "import os\n",
    "#윈도우 에서는 Soundfile이 mp3를 지원하지 않아서 sox_io백엔드로 변경 필요\n",
    "torchaudio.set_audio_backend(\"sox_io\")\n",
    "print(\"사용 가능 백엔드 목록 출력\",torchaudio.list_audio_backends())\n"
   ]
  },
  {
   "cell_type": "code",
   "execution_count": 5,
   "id": "112d5e35",
   "metadata": {},
   "outputs": [
    {
     "name": "stdout",
     "output_type": "stream",
     "text": [
      "백엔드 리스트: ['soundfile']\n",
      "샘플 shape: torch.Size([2, 9156608]) 44100\n"
     ]
    }
   ],
   "source": [
    "import torchaudio\n",
    "print(\"백엔드 리스트:\",torchaudio.list_audio_backends())\n",
    "\n",
    "#테스트 로드\n",
    "mix, sr = torchaudio.load(r'D:\\혼자 하는 프젝\\드럼 악보 전사\\Automatic_Drum_Transcription\\data\\mp3\\한페될.mp3')\n",
    "print(\"샘플 shape:\",mix.shape, sr)"
   ]
  },
  {
   "cell_type": "code",
   "execution_count": 7,
   "id": "9d865942",
   "metadata": {},
   "outputs": [
    {
     "name": "stdout",
     "output_type": "stream",
     "text": [
      "Drums stem 저장 완료: separated/drums.wav\n"
     ]
    }
   ],
   "source": [
    "\n",
    "# 2️⃣ 모델 로드 (fine-tuned)\n",
    "bag = pretrained.get_model(\"htdemucs_ft\") #BagOfModels 타입\n",
    "device = \"cuda\" if torch.cuda.is_available() else \"cpu\"\n",
    "bag.to(device)\n",
    "bag.eval()\n",
    "\n",
    "# 3️⃣ 분리 실행 함수\n",
    "def separate_drums(input_path, output_dir='separated'):\n",
    "    #오디오 불러오기\n",
    "    mix, sr = torchaudio.load(input_path)\n",
    "    mix = mix.to(device)\n",
    "\n",
    "    #배치 차원 추가\n",
    "    sources = apply_model(bag, mix.unsqueeze(0), device = device)\n",
    "    #소스 차원 = (1, num_stems, channels, samples)\n",
    "    \n",
    "    #drums 인덱스 찾기\n",
    "    stem_names = bag.sources # ['drums','bass','other','vocals']\n",
    "    drums_index = stem_names.index('drums')\n",
    "    drums = sources[0,drums_index]\n",
    "    os.makedirs(output_dir, exist_ok=True)\n",
    "\n",
    "    #결과 저장\n",
    "    torchaudio.save(f\"{output_dir}/drums.wav\", drums.cpu(), sr)\n",
    "    print(f\"Drums stem 저장 완료: {output_dir}/drums.wav\")\n",
    "\n",
    "# 4️⃣ 실제 테스트\n",
    "separate_drums(r'D:\\혼자 하는 프젝\\드럼 악보 전사\\Automatic_Drum_Transcription\\data\\mp3\\한페될.mp3')\n"
   ]
  },
  {
   "cell_type": "code",
   "execution_count": null,
   "id": "0151df77",
   "metadata": {},
   "outputs": [],
   "source": []
  }
 ],
 "metadata": {
  "kernelspec": {
   "display_name": "base",
   "language": "python",
   "name": "python3"
  },
  "language_info": {
   "codemirror_mode": {
    "name": "ipython",
    "version": 3
   },
   "file_extension": ".py",
   "mimetype": "text/x-python",
   "name": "python",
   "nbconvert_exporter": "python",
   "pygments_lexer": "ipython3",
   "version": "3.8.18"
  }
 },
 "nbformat": 4,
 "nbformat_minor": 5
}
