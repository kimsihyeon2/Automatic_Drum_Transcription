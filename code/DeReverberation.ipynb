{
 "cells": [
  {
   "cell_type": "code",
   "execution_count": 1,
   "id": "8f5c9785",
   "metadata": {},
   "outputs": [
    {
     "name": "stdout",
     "output_type": "stream",
     "text": [
      "test\n"
     ]
    }
   ],
   "source": [
    "print('test')"
   ]
  },
  {
   "cell_type": "code",
   "execution_count": 17,
   "id": "ccffcb9c",
   "metadata": {},
   "outputs": [
    {
     "name": "stdout",
     "output_type": "stream",
     "text": [
      "Requirement already satisfied: nara_wpe in c:\\users\\kimsi\\anaconda3\\lib\\site-packages (0.0.11)\n",
      "Requirement already satisfied: numpy in c:\\users\\kimsi\\anaconda3\\lib\\site-packages (from nara_wpe) (1.24.4)\n",
      "Requirement already satisfied: tqdm in c:\\users\\kimsi\\anaconda3\\lib\\site-packages (from nara_wpe) (4.66.5)\n",
      "Requirement already satisfied: soundfile in c:\\users\\kimsi\\anaconda3\\lib\\site-packages (from nara_wpe) (0.13.1)\n",
      "Requirement already satisfied: bottleneck in c:\\users\\kimsi\\anaconda3\\lib\\site-packages (from nara_wpe) (1.3.7)\n",
      "Requirement already satisfied: click in c:\\users\\kimsi\\anaconda3\\lib\\site-packages (from nara_wpe) (8.1.7)\n",
      "Requirement already satisfied: colorama in c:\\users\\kimsi\\anaconda3\\lib\\site-packages (from click->nara_wpe) (0.4.6)\n",
      "Requirement already satisfied: cffi>=1.0 in c:\\users\\kimsi\\anaconda3\\lib\\site-packages (from soundfile->nara_wpe) (1.16.0)\n",
      "Requirement already satisfied: pycparser in c:\\users\\kimsi\\anaconda3\\lib\\site-packages (from cffi>=1.0->soundfile->nara_wpe) (2.21)\n"
     ]
    }
   ],
   "source": [
    "!pip install nara_wpe"
   ]
  },
  {
   "cell_type": "code",
   "execution_count": 18,
   "id": "a05bee02",
   "metadata": {},
   "outputs": [],
   "source": [
    "from nara_wpe import wpe\n",
    "import soundfile as sf\n",
    "import numpy as np\n",
    "from scipy.signal import stft, istft"
   ]
  },
  {
   "cell_type": "markdown",
   "id": "56f26875",
   "metadata": {},
   "source": [
    "음원 불러와서 Stereo -> Mono로 변환"
   ]
  },
  {
   "cell_type": "code",
   "execution_count": null,
   "id": "e27418b6",
   "metadata": {},
   "outputs": [],
   "source": [
    "# 🎧 필요한 라이브러리 임포트 및 설치 (최초 1회)\n",
    "# !pip install nara_wpe soundfile scipy   # 노트북에서 실행\n",
    "\n",
    "def dereverb_stream_mod(infile, outfile, chunk_s=5, taps=5, delay=3):\n",
    "    signal, sr = sf.read(infile)\n",
    "    out = []\n",
    "    hop = sr * chunk_s\n",
    "    for start in range(0, len(signal), hop):\n",
    "        chunk = signal[start:start+hop]\n",
    "        if chunk.ndim>1: chunk = chunk.mean(axis=1)\n",
    "        f,t,Z = stft(chunk, fs=sr, nperseg=512, noverlap=256)\n",
    "        Z_d = wpe(Z[...,None], taps=taps, delay=delay).squeeze(-1)\n",
    "        _, shrink = istft(Z_d, fs=sr, nperseg=512, noverlap=256)\n",
    "        out.append(shrink)\n",
    "    sf.write(outfile, np.concatenate(out), sr)\n",
    "    print(\"✅ DeReverb 완료:\", outfile)\n"
   ]
  },
  {
   "cell_type": "code",
   "execution_count": 15,
   "id": "28edeae9",
   "metadata": {},
   "outputs": [
    {
     "ename": "MemoryError",
     "evalue": "Unable to allocate 142. GiB for an array with shape (513, 4315, 4315) and data type complex128",
     "output_type": "error",
     "traceback": [
      "\u001b[1;31m---------------------------------------------------------------------------\u001b[0m",
      "\u001b[1;31mMemoryError\u001b[0m                               Traceback (most recent call last)",
      "Cell \u001b[1;32mIn[15], line 4\u001b[0m\n\u001b[0;32m      2\u001b[0m input_file \u001b[38;5;241m=\u001b[39m \u001b[38;5;124m\"\u001b[39m\u001b[38;5;124mseparated/drums.wav\u001b[39m\u001b[38;5;124m\"\u001b[39m           \u001b[38;5;66;03m# 분리된 드럼 WAV 파일 경로\u001b[39;00m\n\u001b[0;32m      3\u001b[0m output_file \u001b[38;5;241m=\u001b[39m \u001b[38;5;124m\"\u001b[39m\u001b[38;5;124mseparated/drums_dry.wav\u001b[39m\u001b[38;5;124m\"\u001b[39m      \u001b[38;5;66;03m# 결과 Dry 파일 저장 경로\u001b[39;00m\n\u001b[1;32m----> 4\u001b[0m \u001b[43mdereverb_stream\u001b[49m\u001b[43m(\u001b[49m\u001b[43minput_file\u001b[49m\u001b[43m,\u001b[49m\u001b[43m \u001b[49m\u001b[43moutput_file\u001b[49m\u001b[43m,\u001b[49m\u001b[43m \u001b[49m\u001b[43mchunk_s\u001b[49m\u001b[38;5;241;43m=\u001b[39;49m\u001b[38;5;241;43m10\u001b[39;49m\u001b[43m,\u001b[49m\u001b[43m \u001b[49m\u001b[43mtaps\u001b[49m\u001b[38;5;241;43m=\u001b[39;49m\u001b[38;5;241;43m5\u001b[39;49m\u001b[43m,\u001b[49m\u001b[43m \u001b[49m\u001b[43mdelay\u001b[49m\u001b[38;5;241;43m=\u001b[39;49m\u001b[38;5;241;43m3\u001b[39;49m\u001b[43m)\u001b[49m\n",
      "Cell \u001b[1;32mIn[14], line 19\u001b[0m, in \u001b[0;36mdereverb_stream\u001b[1;34m(infile, outfile, chunk_s, taps, delay)\u001b[0m\n\u001b[0;32m     17\u001b[0m     chunk \u001b[38;5;241m=\u001b[39m np\u001b[38;5;241m.\u001b[39mmean(chunk, axis\u001b[38;5;241m=\u001b[39m\u001b[38;5;241m1\u001b[39m)  \u001b[38;5;66;03m# 스테레오 → 모노\u001b[39;00m\n\u001b[0;32m     18\u001b[0m f, t, Z \u001b[38;5;241m=\u001b[39m stft(chunk, fs\u001b[38;5;241m=\u001b[39msr, nperseg\u001b[38;5;241m=\u001b[39m\u001b[38;5;241m1024\u001b[39m, noverlap\u001b[38;5;241m=\u001b[39m\u001b[38;5;241m512\u001b[39m)\n\u001b[1;32m---> 19\u001b[0m Z_d \u001b[38;5;241m=\u001b[39m \u001b[43mwpe\u001b[49m\u001b[38;5;241;43m.\u001b[39;49m\u001b[43mwpe\u001b[49m\u001b[43m(\u001b[49m\u001b[43mZ\u001b[49m\u001b[43m[\u001b[49m\u001b[38;5;241;43m.\u001b[39;49m\u001b[38;5;241;43m.\u001b[39;49m\u001b[38;5;241;43m.\u001b[39;49m\u001b[43m,\u001b[49m\u001b[43m \u001b[49m\u001b[38;5;28;43;01mNone\u001b[39;49;00m\u001b[43m]\u001b[49m\u001b[43m,\u001b[49m\u001b[43m \u001b[49m\u001b[43mtaps\u001b[49m\u001b[38;5;241;43m=\u001b[39;49m\u001b[43mtaps\u001b[49m\u001b[43m,\u001b[49m\u001b[43m \u001b[49m\u001b[43mdelay\u001b[49m\u001b[38;5;241;43m=\u001b[39;49m\u001b[43mdelay\u001b[49m\u001b[43m)\u001b[49m\u001b[38;5;241m.\u001b[39msqueeze(\u001b[38;5;241m-\u001b[39m\u001b[38;5;241m1\u001b[39m)\n\u001b[0;32m     20\u001b[0m _, shrink \u001b[38;5;241m=\u001b[39m istft(Z_d, fs\u001b[38;5;241m=\u001b[39msr, nperseg\u001b[38;5;241m=\u001b[39m\u001b[38;5;241m1024\u001b[39m, noverlap\u001b[38;5;241m=\u001b[39m\u001b[38;5;241m512\u001b[39m)\n\u001b[0;32m     21\u001b[0m out\u001b[38;5;241m.\u001b[39mappend(shrink)\n",
      "File \u001b[1;32mc:\\Users\\kimsi\\anaconda3\\lib\\site-packages\\nara_wpe\\wpe.py:606\u001b[0m, in \u001b[0;36mwpe_v7\u001b[1;34m(Y, taps, delay, iterations, psd_context, statistics_mode)\u001b[0m\n\u001b[0;32m    604\u001b[0m \u001b[38;5;28;01mfor\u001b[39;00m iteration \u001b[38;5;129;01min\u001b[39;00m \u001b[38;5;28mrange\u001b[39m(iterations):\n\u001b[0;32m    605\u001b[0m     inverse_power \u001b[38;5;241m=\u001b[39m get_power_inverse(X, psd_context\u001b[38;5;241m=\u001b[39mpsd_context)\n\u001b[1;32m--> 606\u001b[0m     G \u001b[38;5;241m=\u001b[39m \u001b[43mget_filter_matrix_v7\u001b[49m\u001b[43m(\u001b[49m\u001b[43mY\u001b[49m\u001b[38;5;241;43m=\u001b[39;49m\u001b[43mY\u001b[49m\u001b[43m[\u001b[49m\u001b[43ms\u001b[49m\u001b[43m]\u001b[49m\u001b[43m,\u001b[49m\u001b[43m \u001b[49m\u001b[43mY_tilde\u001b[49m\u001b[38;5;241;43m=\u001b[39;49m\u001b[43mY_tilde\u001b[49m\u001b[43m[\u001b[49m\u001b[43ms\u001b[49m\u001b[43m]\u001b[49m\u001b[43m,\u001b[49m\u001b[43m \u001b[49m\u001b[43minverse_power\u001b[49m\u001b[38;5;241;43m=\u001b[39;49m\u001b[43minverse_power\u001b[49m\u001b[43m[\u001b[49m\u001b[43ms\u001b[49m\u001b[43m]\u001b[49m\u001b[43m)\u001b[49m\n\u001b[0;32m    607\u001b[0m     X \u001b[38;5;241m=\u001b[39m perform_filter_operation_v5(Y\u001b[38;5;241m=\u001b[39mY, Y_tilde\u001b[38;5;241m=\u001b[39mY_tilde, filter_matrix\u001b[38;5;241m=\u001b[39mG)\n\u001b[0;32m    608\u001b[0m \u001b[38;5;28;01mreturn\u001b[39;00m X\n",
      "File \u001b[1;32mc:\\Users\\kimsi\\anaconda3\\lib\\site-packages\\nara_wpe\\wpe.py:1315\u001b[0m, in \u001b[0;36mget_filter_matrix_v7\u001b[1;34m(Y, Y_tilde, inverse_power)\u001b[0m\n\u001b[0;32m   1314\u001b[0m \u001b[38;5;28;01mdef\u001b[39;00m \u001b[38;5;21mget_filter_matrix_v7\u001b[39m(Y, Y_tilde, inverse_power):\n\u001b[1;32m-> 1315\u001b[0m     R, P \u001b[38;5;241m=\u001b[39m \u001b[43mget_correlations_v6\u001b[49m\u001b[43m(\u001b[49m\u001b[43mY\u001b[49m\u001b[43m,\u001b[49m\u001b[43m \u001b[49m\u001b[43mY_tilde\u001b[49m\u001b[43m,\u001b[49m\u001b[43m \u001b[49m\u001b[43minverse_power\u001b[49m\u001b[43m)\u001b[49m\n\u001b[0;32m   1316\u001b[0m     G \u001b[38;5;241m=\u001b[39m _stable_solve(R, P)\n\u001b[0;32m   1317\u001b[0m     \u001b[38;5;28;01mreturn\u001b[39;00m G\n",
      "File \u001b[1;32mc:\\Users\\kimsi\\anaconda3\\lib\\site-packages\\nara_wpe\\wpe.py:1227\u001b[0m, in \u001b[0;36mget_correlations_v6\u001b[1;34m(Y, Y_tilde, inverse_power)\u001b[0m\n\u001b[0;32m   1225\u001b[0m \u001b[38;5;28;01mdef\u001b[39;00m \u001b[38;5;21mget_correlations_v6\u001b[39m(Y, Y_tilde, inverse_power):\n\u001b[0;32m   1226\u001b[0m     Y_tilde_inverse_power \u001b[38;5;241m=\u001b[39m Y_tilde \u001b[38;5;241m*\u001b[39m inverse_power[\u001b[38;5;241m.\u001b[39m\u001b[38;5;241m.\u001b[39m\u001b[38;5;241m.\u001b[39m, \u001b[38;5;28;01mNone\u001b[39;00m, :]\n\u001b[1;32m-> 1227\u001b[0m     R \u001b[38;5;241m=\u001b[39m \u001b[43mnp\u001b[49m\u001b[38;5;241;43m.\u001b[39;49m\u001b[43mmatmul\u001b[49m\u001b[43m(\u001b[49m\u001b[43mY_tilde_inverse_power\u001b[49m\u001b[43m,\u001b[49m\u001b[43m \u001b[49m\u001b[43mhermite\u001b[49m\u001b[43m(\u001b[49m\u001b[43mY_tilde\u001b[49m\u001b[43m)\u001b[49m\u001b[43m)\u001b[49m\n\u001b[0;32m   1228\u001b[0m     P \u001b[38;5;241m=\u001b[39m np\u001b[38;5;241m.\u001b[39mmatmul(Y_tilde_inverse_power, hermite(Y))\n\u001b[0;32m   1229\u001b[0m     \u001b[38;5;28;01mreturn\u001b[39;00m R, P\n",
      "\u001b[1;31mMemoryError\u001b[0m: Unable to allocate 142. GiB for an array with shape (513, 4315, 4315) and data type complex128"
     ]
    }
   ],
   "source": [
    "# ▶️ dereverb_stream 실행 예시\n",
    "input_file = \"separated/drums.wav\"           # 분리된 드럼 WAV 파일 경로\n",
    "output_file = \"separated/drums_dry.wav\"      # 결과 Dry 파일 저장 경로\n",
    "dereverb_stream(input_file, output_file, chunk_s=10, taps=5, delay=3)"
   ]
  },
  {
   "cell_type": "code",
   "execution_count": null,
   "id": "88bede00",
   "metadata": {},
   "outputs": [],
   "source": []
  }
 ],
 "metadata": {
  "kernelspec": {
   "display_name": "base",
   "language": "python",
   "name": "python3"
  },
  "language_info": {
   "codemirror_mode": {
    "name": "ipython",
    "version": 3
   },
   "file_extension": ".py",
   "mimetype": "text/x-python",
   "name": "python",
   "nbconvert_exporter": "python",
   "pygments_lexer": "ipython3",
   "version": "3.8.18"
  }
 },
 "nbformat": 4,
 "nbformat_minor": 5
}
