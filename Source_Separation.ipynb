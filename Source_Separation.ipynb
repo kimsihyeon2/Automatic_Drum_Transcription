{
 "cells": [
  {
   "cell_type": "code",
   "execution_count": null,
   "id": "a509d4c2",
   "metadata": {},
   "outputs": [],
   "source": [
    "print(\"test\")"
   ]
  }
 ],
 "metadata": {
  "kernelspec": {
   "display_name": "base",
   "language": "python",
   "name": "python3"
  },
  "language_info": {
   "name": "python",
   "version": "3.8.18"
  }
 },
 "nbformat": 4,
 "nbformat_minor": 5
}
